{
 "cells": [
  {
   "attachments": {},
   "cell_type": "markdown",
   "metadata": {},
   "source": [
    "# Using Class Templates\n",
    "\n",
    "This notebook is for people new to using templated classes (and/or classes in general)"
   ]
  },
  {
   "cell_type": "code",
   "execution_count": 3,
   "metadata": {},
   "outputs": [],
   "source": [
    "\n",
    "# A base class is no diffrent to any other class what makes it different is the way we intend to use it.\n",
    "\n",
    "class baseTemplate():\n",
    "    \"\"\"\n",
    "    Base class template\n",
    "    a: int\n",
    "        This is a\n",
    "    b: int\n",
    "        This is b\n",
    "    c: int \n",
    "        This is None\n",
    "    \n",
    "    Methods\n",
    "    -------\n",
    "    add()\n",
    "        Returns the sum of a and b\n",
    "    sub()   \n",
    "        Returns the difference of a and b\n",
    "    print_c()\n",
    "        Prints c\n",
    "    test_print_const()\n",
    "        Prints a test string\n",
    "    thisDoesNothingInBase()\n",
    "        Does nothing\n",
    "    \"\"\"\n",
    "    def __init__(self, a, b, c=None):\n",
    "        \"\"\"\n",
    "        An __init__ method is required for a class to be instantiated.\n",
    "        In a template class we can define the attributes that we want to be present in the class but we can leave them as none.\n",
    "        A rule of thumb is to require variables that are required for the base class to work and leave the rest as None via kwargs.\n",
    "        \"\"\"\n",
    "        self.a = a\n",
    "        self.b = b\n",
    "        self.c = c\n",
    "    \n",
    "    def add(self):\n",
    "        \"\"\"\n",
    "        This is a docstring for the add method. It should be a short description of what the method does.\n",
    "        This method returns the sum of a and b, it does not take any arguments other than self.\n",
    "        All methods in a class should take self as the first argument, self is a reference to the instance of the class.\n",
    "        \"\"\"\n",
    "\n",
    "        # We can access the attributes of the class via self, this means where we have self.a we are \n",
    "        # accessing the attribute a of the class that was set in the __init__ method.\n",
    "        return self.a + self.b\n",
    "    \n",
    "    def sub(self, x):\n",
    "        \"\"\" \n",
    "        Returns the difference of a and x, it takes x as an argument.\n",
    "        Parameters\n",
    "        ----------\n",
    "        x: int\n",
    "            This is the value to be subtracted from a, where a is an attribute of the class.\n",
    "        \"\"\"\n",
    "        return self.a - x\n",
    "    \n",
    "    def print_c(self):\n",
    "        \"\"\"\n",
    "        Prints the value of c, if c is None it will print None.\n",
    "        If c is set in a subclass it will print the value of c in the subclass.\n",
    "        \"\"\"\n",
    "        print(self.c)\n",
    "    \n",
    "    def test_print_const(self):\n",
    "        \"\"\"\n",
    "        Prints a test string\n",
    "        \"\"\"\n",
    "        print(\"This is a test print\")\n",
    "\n",
    "    def thisDoesNothingInBase(self):\n",
    "        \"\"\"\n",
    "        This method does nothing, we can make this do things in the subclasses.\n",
    "        \"\"\"\n",
    "        pass"
   ]
  },
  {
   "attachments": {},
   "cell_type": "markdown",
   "metadata": {},
   "source": [
    "## Making a Testsuit\n",
    "\n",
    "We are going to make a testsuit for our class and subclasses this will be a function to which you pass the instance of the class.\n",
    "Then it calls each of the functions and formats the output appropiatly."
   ]
  },
  {
   "cell_type": "code",
   "execution_count": 1,
   "metadata": {},
   "outputs": [],
   "source": [
    "def test_suit(cls_inst):\n",
    "    \"\"\" \n",
    "    This is a test suite for classes that subclass the baseTemplate class.\n",
    "    It takes an instance of the class as an argument.\n",
    "    Parameters\n",
    "    ----------\n",
    "    cls_inst: baseTemplate\n",
    "        An instance of the baseTemplate class.\n",
    "    \"\"\"\n",
    "\n",
    "    print(\"Testing __init__ values\")\n",
    "    a = cls_inst.a\n",
    "    b = cls_inst.b\n",
    "    c = cls_inst.c\n",
    "    print(f\"a: {a}, b: {b}, c: {c}\")\n",
    "\n",
    "    print(\"Testing add method, shoud return a + b\")\n",
    "    print(f\"{a}+{b} = {cls_inst.add()}\")\n",
    "\n",
    "    print(\"Testing sub method, should return a - x\")\n",
    "    x = 5\n",
    "    print(f\"{a}-{x} = {cls_inst.sub(x)}\")\n",
    "\n",
    "    print(\"Testing print_c method, should print c\")\n",
    "    print(f\"c: {cls_inst.c}\")\n",
    "\n",
    "    print(\"Testing test_print_const method, should print a test string\")\n",
    "    cls_inst.test_print_const()\n",
    "\n",
    "    print(\"Testing thisDoesNothingInBase method, should do nothing if method is not overwritten in subclass\")\n",
    "    cls_inst.thisDoesNothingInBase()"
   ]
  },
  {
   "cell_type": "code",
   "execution_count": 6,
   "metadata": {},
   "outputs": [
    {
     "name": "stdout",
     "output_type": "stream",
     "text": [
      "Testing __init__ values\n",
      "a: 1, b: 2, c: None\n",
      "Testing add method, shoud return a + b\n",
      "1+2 = 3\n",
      "Testing sub method, should return a - x\n",
      "1-5 = -4\n",
      "Testing print_c method, should print c\n",
      "c: None\n",
      "Testing test_print_const method, should print a test string\n",
      "This is a test print\n",
      "Testing thisDoesNothingInBase method, should do nothing if method is not overwritten in subclass\n",
      "\n",
      "Changing the value of a and b\n",
      "\n",
      "Testing __init__ values\n",
      "a: 5, b: 10, c: None\n",
      "Testing add method, shoud return a + b\n",
      "5+10 = 15\n",
      "Testing sub method, should return a - x\n",
      "5-5 = 0\n",
      "Testing print_c method, should print c\n",
      "c: None\n",
      "Testing test_print_const method, should print a test string\n",
      "This is a test print\n",
      "Testing thisDoesNothingInBase method, should do nothing if method is not overwritten in subclass\n"
     ]
    }
   ],
   "source": [
    "# To use the class we need to instantiate it, this is done by calling the class name with the required arguments.\n",
    "\n",
    "# Instantiate the class with a, b\n",
    "\n",
    "base = baseTemplate(1, 2)\n",
    "\n",
    "test_suit(base)\n",
    "\n",
    "\n",
    "# Classes are mutable, this means we can change the attributes of the class after it has been instantiated.\n",
    "\n",
    "print(\"\\nChanging the value of a and b\\n\")\n",
    "\n",
    "\n",
    "base.a = 5\n",
    "base.b = 10\n",
    "\n",
    "test_suit(base)"
   ]
  },
  {
   "attachments": {},
   "cell_type": "markdown",
   "metadata": {},
   "source": [
    "# Using a class template\n",
    "\n",
    "A class template is there to define common or essential functionality and reduce rewriting class methods"
   ]
  },
  {
   "cell_type": "code",
   "execution_count": 9,
   "metadata": {},
   "outputs": [],
   "source": [
    "# we construct a subclass simmilar to how we construct a class, the only difference is we pass the base class as an argument to the subclass.\n",
    "\n",
    "class thisClassHasC(baseTemplate):\n",
    "    \"\"\"\n",
    "    This class is identical to the base but it requires c to be defined.\n",
    "    \"\"\"\n",
    "    def __init__(self, a, b, c):\n",
    "        \"\"\"\n",
    "        This class requires c to be defined, it is not optional.\n",
    "        \"\"\"\n",
    "        # Super is used to call the __init__ method of the base class, its important to call the __init__ method of the base class to ensure that the attributes of the base class are set.\n",
    "        super().__init__(a, b, c=c)"
   ]
  },
  {
   "cell_type": "code",
   "execution_count": 10,
   "metadata": {},
   "outputs": [
    {
     "name": "stdout",
     "output_type": "stream",
     "text": [
      "Testing __init__ values\n",
      "a: 1, b: 2, c: 3\n",
      "Testing add method, shoud return a + b\n",
      "1+2 = 3\n",
      "Testing sub method, should return a - x\n",
      "1-5 = -4\n",
      "Testing print_c method, should print c\n",
      "c: 3\n",
      "Testing test_print_const method, should print a test string\n",
      "This is a test print\n",
      "Testing thisDoesNothingInBase method, should do nothing if method is not overwritten in subclass\n"
     ]
    }
   ],
   "source": [
    "# Instantiate the class with a, b, c\n",
    "thisHasC = thisClassHasC(1, 2, 3)\n",
    "test_suit(thisHasC)"
   ]
  },
  {
   "attachments": {},
   "cell_type": "markdown",
   "metadata": {},
   "source": [
    "We see above that the class defines C which is unsurprising.\n",
    "\n",
    "lets look at overriding the class methods"
   ]
  },
  {
   "cell_type": "code",
   "execution_count": 15,
   "metadata": {},
   "outputs": [],
   "source": [
    "# This class has no useless methods\n",
    "\n",
    "class thisClassHasNoUselessMethods(baseTemplate):\n",
    "    def __init__(self, a, b):\n",
    "\n",
    "        super().__init__(a, b)\n",
    "        \n",
    "    \n",
    "    def thisDoesNothingInBase(self):\n",
    "        print(\"This method does something in this class i.e. it prints this string\")\n",
    "    "
   ]
  },
  {
   "cell_type": "code",
   "execution_count": 16,
   "metadata": {},
   "outputs": [
    {
     "name": "stdout",
     "output_type": "stream",
     "text": [
      "Testing __init__ values\n",
      "a: 1, b: 2, c: None\n",
      "Testing add method, shoud return a + b\n",
      "1+2 = 3\n",
      "Testing sub method, should return a - x\n",
      "1-5 = -4\n",
      "Testing print_c method, should print c\n",
      "c: None\n",
      "Testing test_print_const method, should print a test string\n",
      "This is a test print\n",
      "Testing thisDoesNothingInBase method, should do nothing if method is not overwritten in subclass\n",
      "This method does something in this class i.e. it prints this string\n"
     ]
    }
   ],
   "source": [
    "# Instantiate the class with a, b\n",
    "thisHasNoUselessMethods = thisClassHasNoUselessMethods(1, 2)\n",
    "test_suit(thisHasNoUselessMethods)"
   ]
  },
  {
   "attachments": {},
   "cell_type": "markdown",
   "metadata": {},
   "source": [
    "Cracking it did a thing. We can modify the behaviour of non empty functions but this has the issue of potentially creating unexpcted sideffects. \n",
    "For example:"
   ]
  },
  {
   "cell_type": "code",
   "execution_count": 21,
   "metadata": {},
   "outputs": [],
   "source": [
    "class thisClassBreaksRules(baseTemplate):\n",
    "    def __init__(self, a, b):\n",
    "        \"\"\"\n",
    "        Nothing odd here\n",
    "        \"\"\"\n",
    "        super().__init__(a, b)\n",
    "    \n",
    "    def add(self, x):\n",
    "        return self.a + x\n",
    "    \n",
    "class thisClassBreaksRules2(baseTemplate):\n",
    "    def __init__(self, a, b):\n",
    "        \"\"\"\n",
    "        Sets not call the super class __init__ method\n",
    "        \"\"\"\n",
    "        "
   ]
  },
  {
   "cell_type": "code",
   "execution_count": 22,
   "metadata": {},
   "outputs": [
    {
     "name": "stdout",
     "output_type": "stream",
     "text": [
      "Testing __init__ values\n",
      "a: 1, b: 2, c: None\n",
      "Testing add method, shoud return a + b\n"
     ]
    },
    {
     "ename": "TypeError",
     "evalue": "thisClassBreaksRules.add() missing 1 required positional argument: 'x'",
     "output_type": "error",
     "traceback": [
      "\u001b[0;31m---------------------------------------------------------------------------\u001b[0m",
      "\u001b[0;31mTypeError\u001b[0m                                 Traceback (most recent call last)",
      "Cell \u001b[0;32mIn[22], line 2\u001b[0m\n\u001b[1;32m      1\u001b[0m thisBreaksRules \u001b[39m=\u001b[39m thisClassBreaksRules(\u001b[39m1\u001b[39m, \u001b[39m2\u001b[39m)\n\u001b[0;32m----> 2\u001b[0m test_suit(thisBreaksRules)\n",
      "Cell \u001b[0;32mIn[1], line 18\u001b[0m, in \u001b[0;36mtest_suit\u001b[0;34m(cls_inst)\u001b[0m\n\u001b[1;32m     15\u001b[0m \u001b[39mprint\u001b[39m(\u001b[39mf\u001b[39m\u001b[39m\"\u001b[39m\u001b[39ma: \u001b[39m\u001b[39m{\u001b[39;00ma\u001b[39m}\u001b[39;00m\u001b[39m, b: \u001b[39m\u001b[39m{\u001b[39;00mb\u001b[39m}\u001b[39;00m\u001b[39m, c: \u001b[39m\u001b[39m{\u001b[39;00mc\u001b[39m}\u001b[39;00m\u001b[39m\"\u001b[39m)\n\u001b[1;32m     17\u001b[0m \u001b[39mprint\u001b[39m(\u001b[39m\"\u001b[39m\u001b[39mTesting add method, shoud return a + b\u001b[39m\u001b[39m\"\u001b[39m)\n\u001b[0;32m---> 18\u001b[0m \u001b[39mprint\u001b[39m(\u001b[39mf\u001b[39m\u001b[39m\"\u001b[39m\u001b[39m{\u001b[39;00ma\u001b[39m}\u001b[39;00m\u001b[39m+\u001b[39m\u001b[39m{\u001b[39;00mb\u001b[39m}\u001b[39;00m\u001b[39m = \u001b[39m\u001b[39m{\u001b[39;00mcls_inst\u001b[39m.\u001b[39;49madd()\u001b[39m}\u001b[39;00m\u001b[39m\"\u001b[39m)\n\u001b[1;32m     20\u001b[0m \u001b[39mprint\u001b[39m(\u001b[39m\"\u001b[39m\u001b[39mTesting sub method, should return a - x\u001b[39m\u001b[39m\"\u001b[39m)\n\u001b[1;32m     21\u001b[0m x \u001b[39m=\u001b[39m \u001b[39m5\u001b[39m\n",
      "\u001b[0;31mTypeError\u001b[0m: thisClassBreaksRules.add() missing 1 required positional argument: 'x'"
     ]
    }
   ],
   "source": [
    "thisBreaksRules = thisClassBreaksRules(1, 2)\n",
    "test_suit(thisBreaksRules)"
   ]
  },
  {
   "attachments": {},
   "cell_type": "markdown",
   "metadata": {},
   "source": [
    "There is nothing inherently wrong with thisClassBreaksRules, but because it deviated from the template it lost compatibility with the test suit."
   ]
  },
  {
   "cell_type": "code",
   "execution_count": 23,
   "metadata": {},
   "outputs": [
    {
     "name": "stdout",
     "output_type": "stream",
     "text": [
      "Testing __init__ values\n"
     ]
    },
    {
     "ename": "AttributeError",
     "evalue": "'thisClassBreaksRules2' object has no attribute 'a'",
     "output_type": "error",
     "traceback": [
      "\u001b[0;31m---------------------------------------------------------------------------\u001b[0m",
      "\u001b[0;31mAttributeError\u001b[0m                            Traceback (most recent call last)",
      "Cell \u001b[0;32mIn[23], line 2\u001b[0m\n\u001b[1;32m      1\u001b[0m thisBreaksRules2 \u001b[39m=\u001b[39m thisClassBreaksRules2(\u001b[39m1\u001b[39m, \u001b[39m2\u001b[39m)\n\u001b[0;32m----> 2\u001b[0m test_suit(thisBreaksRules2)\n",
      "Cell \u001b[0;32mIn[1], line 12\u001b[0m, in \u001b[0;36mtest_suit\u001b[0;34m(cls_inst)\u001b[0m\n\u001b[1;32m      2\u001b[0m \u001b[39m\u001b[39m\u001b[39m\"\"\" \u001b[39;00m\n\u001b[1;32m      3\u001b[0m \u001b[39mThis is a test suite for classes that subclass the baseTemplate class.\u001b[39;00m\n\u001b[1;32m      4\u001b[0m \u001b[39mIt takes an instance of the class as an argument.\u001b[39;00m\n\u001b[0;32m   (...)\u001b[0m\n\u001b[1;32m      8\u001b[0m \u001b[39m    An instance of the baseTemplate class.\u001b[39;00m\n\u001b[1;32m      9\u001b[0m \u001b[39m\"\"\"\u001b[39;00m\n\u001b[1;32m     11\u001b[0m \u001b[39mprint\u001b[39m(\u001b[39m\"\u001b[39m\u001b[39mTesting __init__ values\u001b[39m\u001b[39m\"\u001b[39m)\n\u001b[0;32m---> 12\u001b[0m a \u001b[39m=\u001b[39m cls_inst\u001b[39m.\u001b[39;49ma\n\u001b[1;32m     13\u001b[0m b \u001b[39m=\u001b[39m cls_inst\u001b[39m.\u001b[39mb\n\u001b[1;32m     14\u001b[0m c \u001b[39m=\u001b[39m cls_inst\u001b[39m.\u001b[39mc\n",
      "\u001b[0;31mAttributeError\u001b[0m: 'thisClassBreaksRules2' object has no attribute 'a'"
     ]
    }
   ],
   "source": [
    "thisBreaksRules2 = thisClassBreaksRules2(1, 2)\n",
    "test_suit(thisBreaksRules2)"
   ]
  },
  {
   "attachments": {},
   "cell_type": "markdown",
   "metadata": {},
   "source": [
    "This class fails because it doesn't call the super \\_\\_init\\_\\_ that super is required for the test suit to work. While there are reasons you may want to deviate from the strict rules it puts you at much greater risk of compatibility flaws."
   ]
  },
  {
   "cell_type": "code",
   "execution_count": 24,
   "metadata": {},
   "outputs": [
    {
     "name": "stdout",
     "output_type": "stream",
     "text": [
      "This is a test print\n"
     ]
    }
   ],
   "source": [
    "thisBreaksRules2.test_print_const()"
   ]
  },
  {
   "attachments": {},
   "cell_type": "markdown",
   "metadata": {},
   "source": [
    "Although the constructor hasnt been called thisBreaksRules2 still has acess to any of the baseclass methods, they came dusing the class definition the constructor in thsis case just assigned the variables"
   ]
  },
  {
   "attachments": {},
   "cell_type": "markdown",
   "metadata": {},
   "source": []
  }
 ],
 "metadata": {
  "kernelspec": {
   "display_name": ".venv",
   "language": "python",
   "name": "python3"
  },
  "language_info": {
   "codemirror_mode": {
    "name": "ipython",
    "version": 3
   },
   "file_extension": ".py",
   "mimetype": "text/x-python",
   "name": "python",
   "nbconvert_exporter": "python",
   "pygments_lexer": "ipython3",
   "version": "3.11.6"
  },
  "orig_nbformat": 4
 },
 "nbformat": 4,
 "nbformat_minor": 2
}
