{
 "cells": [
  {
   "attachments": {},
   "cell_type": "markdown",
   "id": "1ee4c0db",
   "metadata": {},
   "source": [
    "# Fit model parameters to multivariable data (voltage & temperature)\n",
    "\n",
    "This notebook demonstrates how to fit a model to data but for multiple variables. In this case, we will fit the Thermal Single Particle Model with electrolyte (TSPMe) to voltage and temperature data. It builds upon the [single variable example notebook](./datafit_single_variable.ipynb) and assumes the reader has read and understood that notebook.\n",
    "\n",
    "The steps follow in a similar way, but we now will make use of some additional and optional features. We start by importing the relevant packages, as usual."
   ]
  },
  {
   "cell_type": "code",
   "execution_count": 1,
   "id": "5ba4b709",
   "metadata": {},
   "outputs": [],
   "source": [
    "#%pip install git+https://github.com/paramm-team/pybamm-param.git -q # Can be used for Google Colab\n",
    "import pybamm\n",
    "import pbparam\n",
    "import pandas as pd\n",
    "import os"
   ]
  },
  {
   "attachments": {},
   "cell_type": "markdown",
   "id": "b3d21d9f",
   "metadata": {},
   "source": [
    "## 1. Load the data\n",
    "The first step is to load the data to which we want to fit the model. For this example, we use the experimental dataset which from [Brosa Planella et al. (2021) article](https://www.sciencedirect.com/science/article/pii/S0013468621008148). This data set is already in the right format, if you are using your own dataset you should ensure that the headers of the relevant columns match the variable names in PyBaMM (e.g. `\"Time [s]\"`, `\"Voltage [V]\"`...)"
   ]
  },
  {
   "cell_type": "code",
   "execution_count": 2,
   "id": "8cdd5c78",
   "metadata": {},
   "outputs": [],
   "source": [
    "os.chdir(os.path.join(pbparam.__path__[0], \"input\", \"data\")) # Path change\n",
    "data = pd.read_csv(\"LGM50_789_1C_25degC.csv\")"
   ]
  },
  {
   "attachments": {},
   "cell_type": "markdown",
   "id": "bec07cb4",
   "metadata": {},
   "source": [
    "## 2. Define the model\n",
    "Next we need to define the model we want to fit to the data, in this case the TSPMe model. "
   ]
  },
  {
   "cell_type": "code",
   "execution_count": 3,
   "id": "d941b500",
   "metadata": {},
   "outputs": [],
   "source": [
    "model = pybamm.lithium_ion.SPMe(\n",
    "    options={\n",
    "        \"thermal\": \"lumped\",\n",
    "        \"dimensionality\": 0,\n",
    "        \"cell geometry\": \"arbitrary\",\n",
    "        \"electrolyte conductivity\": \"integrated\",\n",
    "    },\n",
    "    name=\"TSPMe\",\n",
    ")"
   ]
  },
  {
   "cell_type": "markdown",
   "id": "e17a3af5",
   "metadata": {},
   "source": [
    "We want to fit the model, amongst others, to the reaction coefficient in the negative electrode. This parameter is not readily available in PyBaMM (it uses the exchange current density as a whole) but we can easily bypass this with some simple coding. In order to optimise the reaction coefficient, we need to redefine the exchange current density and define the rate as a parameter:"
   ]
  },
  {
   "cell_type": "code",
   "execution_count": 4,
   "id": "e0865c6c",
   "metadata": {},
   "outputs": [],
   "source": [
    "def j0_neg(c_e, c_s_surf, c_s_max, T):\n",
    "    \"\"\"\n",
    "    This function has been copied from the Chen2020 parameter set:\n",
    "    pybamm/input/parameters/lithium_ion/negative_electrodes/graphite_Chen2020\n",
    "    /graphite_LGM50_electrolyte_exchange_current_density_Chen2020.py\n",
    "    Similar could be done for the positive exchange current density\n",
    "    \"\"\"\n",
    "    m_ref = pybamm.Parameter(\"Negative electrode reaction coefficient\")\n",
    "    E_r = 3500\n",
    "    arrhenius = pybamm.exp(E_r / pybamm.constants.R * (1 / 298.15 - 1 / T))\n",
    "    return (\n",
    "        m_ref * arrhenius * c_e**0.5 * c_s_surf**0.5 * (c_s_max - c_s_surf) ** 0.5\n",
    "    )"
   ]
  },
  {
   "attachments": {},
   "cell_type": "markdown",
   "id": "6684dc63",
   "metadata": {},
   "source": [
    "Then we can call the `\"Chen2020\"` parameter set and update the exchange current density to use the `j0_neg` function we just defined. We will also have to provide a value for the newly defined `\"Negative electrode reaction coefficient\"`."
   ]
  },
  {
   "cell_type": "code",
   "execution_count": 5,
   "id": "05d9343e",
   "metadata": {},
   "outputs": [],
   "source": [
    "param = pybamm.ParameterValues(\"Chen2020\")  # Initial parameters to be used.\n",
    "\n",
    "# Update some parameters to match the experimental setup\n",
    "param.update(\n",
    "    {\n",
    "        \"Negative particle diffusivity [m2.s-1]\": 2e-14,\n",
    "        \"Initial concentration in positive electrode [mol.m-3]\": 17150,\n",
    "        \"Negative electrode exchange-current density [A.m-2]\": j0_neg,\n",
    "        \"Negative electrode reaction coefficient\": 6.48e-7,\n",
    "        \"Total heat transfer coefficient [W.m-2.K-1]\": 16,\n",
    "        \"Ambient temperature [K]\": 297.825,\n",
    "        \"Initial temperature [K]\": 297.825,\n",
    "    },\n",
    "    check_already_exists=False,\n",
    ")"
   ]
  },
  {
   "cell_type": "markdown",
   "id": "183b7e70",
   "metadata": {},
   "source": [
    "We define the experiment and the simulation as usual."
   ]
  },
  {
   "cell_type": "code",
   "execution_count": 6,
   "id": "ff976424",
   "metadata": {},
   "outputs": [],
   "source": [
    "experiment = pybamm.Experiment(\n",
    "    [\n",
    "        \"Discharge at 1C until 2.5 V\",\n",
    "        \"Rest for 2 hours\",\n",
    "    ],\n",
    ")\n",
    "\n",
    "simulation = pybamm.Simulation(\n",
    "    model,\n",
    "    parameter_values=param,\n",
    "    experiment=experiment,\n",
    ")"
   ]
  },
  {
   "cell_type": "markdown",
   "id": "3634d302",
   "metadata": {},
   "source": [
    "## 3. Define the optimisation problem\n",
    "Now we need to define the optimisation problem; we will use `DataFit` again. We first define the parameters we want to optimise and provide initial guesses and bounds. Note that now we have wrapped all the heat capacities in a tuple, which will enforce they take the same value. This hack is to bypass the fact that PyBaMM computes the lumped thermal capacity from its individual components, so this way we can optimise the lumped thermal capacity."
   ]
  },
  {
   "cell_type": "code",
   "execution_count": 7,
   "id": "f56883ae",
   "metadata": {},
   "outputs": [],
   "source": [
    "parameters = {\n",
    "    \"Negative particle diffusivity [m2.s-1]\": (5e-14, (2.06e-16, 2.06e-12)),\n",
    "    \"Negative electrode reaction coefficient\": (\n",
    "        6.48e-7,\n",
    "        (2.18589831e-9, 2.18589831e-5),\n",
    "    ),\n",
    "    \"Total heat transfer coefficient [W.m-2.K-1]\": (20, (0.1, 1000)),\n",
    "    (\n",
    "        \"Positive current collector specific heat capacity [J.kg-1.K-1]\",\n",
    "        \"Negative current collector specific heat capacity [J.kg-1.K-1]\",\n",
    "        \"Negative electrode specific heat capacity [J.kg-1.K-1]\",\n",
    "        \"Separator specific heat capacity [J.kg-1.K-1]\",\n",
    "        \"Positive electrode specific heat capacity [J.kg-1.K-1]\",\n",
    "    ): (2.85e3, (2.85, 2.85e6)),\n",
    "}"
   ]
  },
  {
   "attachments": {},
   "cell_type": "markdown",
   "id": "723c19c9",
   "metadata": {},
   "source": [
    "By default, `DataFit` assumes we want to fit the model to voltage data, but in this case we want to fit it to voltage and temperature. We can set this as a list of strings (which should match the name of the PyBaMm variables and the data) that we will pass to the optimisation problem."
   ]
  },
  {
   "cell_type": "code",
   "execution_count": 8,
   "id": "828fa0e0",
   "metadata": {},
   "outputs": [],
   "source": [
    "variables_to_fit = [\"Voltage [V]\", \"X-averaged cell temperature [K]\"]"
   ]
  },
  {
   "cell_type": "markdown",
   "id": "4a3e1b05",
   "metadata": {},
   "source": [
    "We can also (optionally) specify different weights for each variable."
   ]
  },
  {
   "cell_type": "code",
   "execution_count": 9,
   "id": "edc80790",
   "metadata": {},
   "outputs": [],
   "source": [
    "weights = {\"X-averaged cell temperature [K]\": [2], \"Voltage [V]\": [1]}"
   ]
  },
  {
   "attachments": {},
   "cell_type": "markdown",
   "id": "875ecf6f",
   "metadata": {},
   "source": [
    "Finally, we can also change the cost function we want to use in our optimisation problem. Here we explicitly define the root-mean-square error (RMSE), but maximum likelihood estimation (MLE) is also available (it takes longer to solve). "
   ]
  },
  {
   "cell_type": "code",
   "execution_count": 10,
   "id": "b37cd740",
   "metadata": {},
   "outputs": [],
   "source": [
    "cost_function = pbparam.RMSE()"
   ]
  },
  {
   "cell_type": "markdown",
   "id": "84c4c128",
   "metadata": {},
   "source": [
    "Finally, we can assemble the optimisation problem with all the newly defined optional arguments."
   ]
  },
  {
   "cell_type": "code",
   "execution_count": 11,
   "id": "bee6ce22",
   "metadata": {},
   "outputs": [],
   "source": [
    "opt = pbparam.DataFit(\n",
    "    simulation,\n",
    "    data,\n",
    "    parameters=parameters,\n",
    "    variables_to_fit=variables_to_fit,\n",
    "    cost_function=cost_function,\n",
    "    weights=weights,\n",
    ")"
   ]
  },
  {
   "cell_type": "markdown",
   "id": "d7f2583d",
   "metadata": {},
   "source": [
    "## 4. Solve the optimisation problem\n",
    "Next we need to solve the optimisation problem. In this case we use Scipy's Differential Evolution optimiser. This is a global optimiser which works better in problems with so many parameters to fit. The `extra_options` are the options that the Scipy's optimiser takes, see [Scipy's documentation](https://docs.scipy.org/doc/scipy/reference/generated/scipy.optimize.differential_evolution.html) for more info. Note that setting the number of workers to be more than one will parallelise the code. This will make the method faster, but might break in certain distributions. If this is your case, please set the number back to 1 in the options below."
   ]
  },
  {
   "cell_type": "code",
   "execution_count": 12,
   "id": "a5796766",
   "metadata": {},
   "outputs": [],
   "source": [
    "optimiser = pbparam.ScipyDifferentialEvolution(\n",
    "    extra_options={\"workers\": 4, \"polish\": True, \"updating\": \"deferred\", \"disp\": True}\n",
    ")"
   ]
  },
  {
   "attachments": {},
   "cell_type": "markdown",
   "id": "9ae438c5",
   "metadata": {},
   "source": [
    "Now we can just solve the optimisation problem as usual. Because we set `\"disp\"` to be `True`, this will display the progress of the optimiser."
   ]
  },
  {
   "cell_type": "code",
   "execution_count": 13,
   "id": "19d3f11a",
   "metadata": {},
   "outputs": [
    {
     "name": "stdout",
     "output_type": "stream",
     "text": [
      "differential_evolution step 1: f(x)= 3.22684\n",
      "differential_evolution step 2: f(x)= 3.22684\n",
      "differential_evolution step 3: f(x)= 3.22684\n",
      "differential_evolution step 4: f(x)= 3.22684\n",
      "differential_evolution step 5: f(x)= 3.22684\n",
      "differential_evolution step 6: f(x)= 3.22684\n",
      "differential_evolution step 7: f(x)= 3.22684\n",
      "differential_evolution step 8: f(x)= 2.24254\n",
      "differential_evolution step 9: f(x)= 2.24254\n",
      "differential_evolution step 10: f(x)= 2.24254\n",
      "differential_evolution step 11: f(x)= 2.24254\n",
      "differential_evolution step 12: f(x)= 2.24254\n",
      "differential_evolution step 13: f(x)= 2.24254\n",
      "differential_evolution step 14: f(x)= 2.24254\n",
      "differential_evolution step 15: f(x)= 2.24254\n",
      "differential_evolution step 16: f(x)= 1.88371\n",
      "differential_evolution step 17: f(x)= 1.40024\n",
      "differential_evolution step 18: f(x)= 1.40024\n",
      "differential_evolution step 19: f(x)= 1.40024\n",
      "differential_evolution step 20: f(x)= 1.40024\n",
      "differential_evolution step 21: f(x)= 1.40024\n",
      "differential_evolution step 22: f(x)= 1.40024\n",
      "differential_evolution step 23: f(x)= 1.40024\n",
      "differential_evolution step 24: f(x)= 1.40024\n",
      "differential_evolution step 25: f(x)= 1.31655\n",
      "differential_evolution step 26: f(x)= 1.31655\n",
      "differential_evolution step 27: f(x)= 1.31655\n",
      "differential_evolution step 28: f(x)= 1.31655\n",
      "differential_evolution step 29: f(x)= 1.2877\n",
      "differential_evolution step 30: f(x)= 1.26109\n",
      "differential_evolution step 31: f(x)= 1.26109\n",
      "differential_evolution step 32: f(x)= 1.25838\n",
      "differential_evolution step 33: f(x)= 1.25838\n",
      "differential_evolution step 34: f(x)= 1.24163\n",
      "differential_evolution step 35: f(x)= 1.11389\n",
      "differential_evolution step 36: f(x)= 1.11389\n",
      "differential_evolution step 37: f(x)= 1.0606\n",
      "differential_evolution step 38: f(x)= 1.0606\n",
      "differential_evolution step 39: f(x)= 1.0606\n",
      "differential_evolution step 40: f(x)= 1.0606\n",
      "differential_evolution step 41: f(x)= 1.0606\n",
      "differential_evolution step 42: f(x)= 1.0606\n",
      "differential_evolution step 43: f(x)= 1.0606\n",
      "differential_evolution step 44: f(x)= 1.0606\n",
      "differential_evolution step 45: f(x)= 1.05746\n",
      "differential_evolution step 46: f(x)= 1.0545\n",
      "differential_evolution step 47: f(x)= 1.0545\n",
      "differential_evolution step 48: f(x)= 1.03809\n",
      "differential_evolution step 49: f(x)= 1.02266\n",
      "differential_evolution step 50: f(x)= 1.01644\n",
      "differential_evolution step 51: f(x)= 1.01644\n",
      "differential_evolution step 52: f(x)= 1.01644\n",
      "differential_evolution step 53: f(x)= 1.00212\n",
      "differential_evolution step 54: f(x)= 1.00212\n",
      "differential_evolution step 55: f(x)= 1.00212\n",
      "differential_evolution step 56: f(x)= 1.00212\n",
      "differential_evolution step 57: f(x)= 1.00191\n",
      "differential_evolution step 58: f(x)= 0.992373\n",
      "differential_evolution step 59: f(x)= 0.989497\n",
      "differential_evolution step 60: f(x)= 0.989497\n",
      "differential_evolution step 61: f(x)= 0.989497\n",
      "differential_evolution step 62: f(x)= 0.984362\n",
      "differential_evolution step 63: f(x)= 0.984121\n",
      "differential_evolution step 64: f(x)= 0.984121\n",
      "differential_evolution step 65: f(x)= 0.984121\n",
      "differential_evolution step 66: f(x)= 0.978257\n",
      "differential_evolution step 67: f(x)= 0.978257\n",
      "differential_evolution step 68: f(x)= 0.978257\n",
      "differential_evolution step 69: f(x)= 0.978257\n",
      "differential_evolution step 70: f(x)= 0.978257\n",
      "differential_evolution step 71: f(x)= 0.978257\n",
      "Polishing solution with 'L-BFGS-B'\n"
     ]
    }
   ],
   "source": [
    "result = optimiser.optimise(opt)"
   ]
  },
  {
   "cell_type": "markdown",
   "id": "6a0be2cb",
   "metadata": {},
   "source": [
    "## 5. Process the result\n",
    "Finally we can process the result of the optimisation problem either printing it or plotting it."
   ]
  },
  {
   "cell_type": "code",
   "execution_count": 14,
   "id": "ffc588b4",
   "metadata": {},
   "outputs": [
    {
     "name": "stdout",
     "output_type": "stream",
     "text": [
      "\n",
      "             Optimal values: {'Negative particle diffusivity [m2.s-1]': 1.6262415932624866e-14, 'Negative electrode reaction coefficient': 4.284556342749176e-07, 'Total heat transfer coefficient [W.m-2.K-1]': 30.93789568920101, 'Positive current collector specific heat capacity [J.kg-1.K-1]': 1744.6295799221168, 'Negative current collector specific heat capacity [J.kg-1.K-1]': 1744.6295799221168, 'Negative electrode specific heat capacity [J.kg-1.K-1]': 1744.6295799221168, 'Separator specific heat capacity [J.kg-1.K-1]': 1744.6295799221168, 'Positive electrode specific heat capacity [J.kg-1.K-1]': 1744.6295799221168}\n",
      "             Initial values: {'Negative particle diffusivity [m2.s-1]': 1.0, 'Negative electrode reaction coefficient': 1.0, 'Total heat transfer coefficient [W.m-2.K-1]': 1.0, 'Positive current collector specific heat capacity [J.kg-1.K-1]': 1.0, 'Negative current collector specific heat capacity [J.kg-1.K-1]': 1.0, 'Negative electrode specific heat capacity [J.kg-1.K-1]': 1.0, 'Separator specific heat capacity [J.kg-1.K-1]': 1.0, 'Positive electrode specific heat capacity [J.kg-1.K-1]': 1.0}\n",
      "                  Optimiser: Root Mean Square Error\n",
      "        Cost function value: 0.9778839269901549\n",
      "                 Solve time: 23 minutes, 12 seconds\n",
      "                    Message: Optimization terminated successfully.\n",
      "        \n"
     ]
    },
    {
     "data": {
      "image/png": "[encoded data removed]",
      "text/plain": [
       "<Figure size 800x400 with 2 Axes>"
      ]
     },
     "metadata": {},
     "output_type": "display_data"
    },
    {
     "data": {
      "text/plain": [
       "<pybamm.plotting.quick_plot.QuickPlot at 0x7f6f3c6d3790>"
      ]
     },
     "execution_count": 14,
     "metadata": {},
     "output_type": "execute_result"
    }
   ],
   "source": [
    "print(result)\n",
    "result.plot()"
   ]
  },
  {
   "cell_type": "markdown",
   "id": "20e6bb44",
   "metadata": {},
   "source": [
    "We can also just print the `result_dict` variable of the result, which is more readable for problems with many parameters to fit."
   ]
  },
  {
   "cell_type": "code",
   "execution_count": 15,
   "id": "1e4684a8",
   "metadata": {},
   "outputs": [
    {
     "data": {
      "text/plain": [
       "{'Negative particle diffusivity [m2.s-1]': 1.6262415932624866e-14,\n",
       " 'Negative electrode reaction coefficient': 4.284556342749176e-07,\n",
       " 'Total heat transfer coefficient [W.m-2.K-1]': 30.93789568920101,\n",
       " 'Positive current collector specific heat capacity [J.kg-1.K-1]': 1744.6295799221168,\n",
       " 'Negative current collector specific heat capacity [J.kg-1.K-1]': 1744.6295799221168,\n",
       " 'Negative electrode specific heat capacity [J.kg-1.K-1]': 1744.6295799221168,\n",
       " 'Separator specific heat capacity [J.kg-1.K-1]': 1744.6295799221168,\n",
       " 'Positive electrode specific heat capacity [J.kg-1.K-1]': 1744.6295799221168}"
      ]
     },
     "execution_count": 15,
     "metadata": {},
     "output_type": "execute_result"
    }
   ],
   "source": [
    "result.result_dict"
   ]
  }
 ],
 "metadata": {
  "kernelspec": {
   "display_name": "Python 3 (ipykernel)",
   "language": "python",
   "name": "python3"
  },
  "language_info": {
   "codemirror_mode": {
    "name": "ipython",
    "version": 3
   },
   "file_extension": ".py",
   "mimetype": "text/x-python",
   "name": "python",
   "nbconvert_exporter": "python",
   "pygments_lexer": "ipython3",
   "version": "3.9.18"
  },
  "vscode": {
   "interpreter": {
    "hash": "fb77006a34bae7b3455bf1af19d13801d1160b5407ef5c8323378eef03722c93"
   }
  }
 },
 "nbformat": 4,
 "nbformat_minor": 5
}
