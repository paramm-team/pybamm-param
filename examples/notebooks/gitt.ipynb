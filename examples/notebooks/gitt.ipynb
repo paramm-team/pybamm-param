{
 "cells": [
  {
   "cell_type": "markdown",
   "id": "1ee4c0db",
   "metadata": {},
   "source": [
    "# **Parameter Optimisation for GITT** \n",
    "\n",
    "This notebook is created to provide an example for ```GITT``` optimisation problem. Diffisuion Coefficient is optimised in this notebook. Only voltage will be considered for optimisation in this example.\n",
    " The workflow is as follows:\n"
   ]
  },
  {
   "cell_type": "code",
   "execution_count": 1,
   "id": "5ba4b709",
   "metadata": {},
   "outputs": [],
   "source": [
    "#%pip install git+https://github.com/paramm-team/pybamm-param.git -q\n",
    "import pybamm\n",
    "import pbparam\n",
    "import pandas as pd"
   ]
  },
  {
   "cell_type": "markdown",
   "id": "f087e770",
   "metadata": {},
   "source": [
    "We are creating a syntethic data first."
   ]
  },
  {
   "cell_type": "code",
   "execution_count": 2,
   "id": "ea2c6d41",
   "metadata": {},
   "outputs": [],
   "source": [
    "syn_model = pybamm.lithium_ion.SPM()"
   ]
  },
  {
   "cell_type": "markdown",
   "id": "6365750d",
   "metadata": {},
   "source": [
    "Synthethic data parameters are defined here:"
   ]
  },
  {
   "cell_type": "code",
   "execution_count": 3,
   "id": "a7d1e9fa",
   "metadata": {},
   "outputs": [],
   "source": [
    "syn_param = syn_model.default_parameter_values\n",
    "\n",
    "syn_param.update(\n",
    "            {\n",
    "                \"Reference OCP [V]\": 4.2,\n",
    "                \"Derivative of the OCP wrt stoichiometry [V]\": -1,\n",
    "                \"Contact resistance [Ohm]\": 0.1,\n",
    "                \"Positive electrode diffusivity [m2.s-1]\": 4e-15\n",
    "                },\n",
    "            check_already_exists=False,\n",
    "        )\n",
    "\n",
    "syn_sim = pybamm.Simulation(syn_model, parameter_values=syn_param)\n",
    "syn_solution = syn_sim.solve([0, 100])"
   ]
  },
  {
   "cell_type": "markdown",
   "id": "497b6382",
   "metadata": {},
   "source": [
    "Then, it is plotted:"
   ]
  },
  {
   "cell_type": "code",
   "execution_count": 4,
   "id": "ff238811",
   "metadata": {},
   "outputs": [
    {
     "data": {
      "application/vnd.jupyter.widget-view+json": {
       "model_id": "aba97cefad2c43ffaefec000d2fa5de4",
       "version_major": 2,
       "version_minor": 0
      },
      "text/plain": [
       "interactive(children=(FloatSlider(value=0.0, description='t', step=1.0), Output()), _dom_classes=('widget-inte…"
      ]
     },
     "metadata": {},
     "output_type": "display_data"
    },
    {
     "data": {
      "text/plain": [
       "<pybamm.plotting.quick_plot.QuickPlot at 0x13e335f70>"
      ]
     },
     "execution_count": 4,
     "metadata": {},
     "output_type": "execute_result"
    }
   ],
   "source": [
    "syn_solution.plot(['Voltage [V]'])"
   ]
  },
  {
   "cell_type": "markdown",
   "id": "0456a81d",
   "metadata": {},
   "source": [
    "The synthethic data is passed to a dataframe:"
   ]
  },
  {
   "cell_type": "code",
   "execution_count": 5,
   "id": "6bc43581",
   "metadata": {},
   "outputs": [],
   "source": [
    "d = {'Time [s]':syn_solution[\"Time [s]\"].entries, 'Voltage [V]': syn_solution[\"Voltage [V]\"].entries}\n",
    "\n",
    "data = pd.DataFrame(data = d)"
   ]
  },
  {
   "cell_type": "code",
   "execution_count": 6,
   "id": "a4b3fb5f",
   "metadata": {},
   "outputs": [
    {
     "data": {
      "text/html": [
       "<div>\n",
       "<style scoped>\n",
       "    .dataframe tbody tr th:only-of-type {\n",
       "        vertical-align: middle;\n",
       "    }\n",
       "\n",
       "    .dataframe tbody tr th {\n",
       "        vertical-align: top;\n",
       "    }\n",
       "\n",
       "    .dataframe thead th {\n",
       "        text-align: right;\n",
       "    }\n",
       "</style>\n",
       "<table border=\"1\" class=\"dataframe\">\n",
       "  <thead>\n",
       "    <tr style=\"text-align: right;\">\n",
       "      <th></th>\n",
       "      <th>Time [s]</th>\n",
       "      <th>Voltage [V]</th>\n",
       "    </tr>\n",
       "  </thead>\n",
       "  <tbody>\n",
       "    <tr>\n",
       "      <th>0</th>\n",
       "      <td>0.000000</td>\n",
       "      <td>3.780084</td>\n",
       "    </tr>\n",
       "    <tr>\n",
       "      <th>1</th>\n",
       "      <td>1.010101</td>\n",
       "      <td>3.778840</td>\n",
       "    </tr>\n",
       "    <tr>\n",
       "      <th>2</th>\n",
       "      <td>2.020202</td>\n",
       "      <td>3.777628</td>\n",
       "    </tr>\n",
       "    <tr>\n",
       "      <th>3</th>\n",
       "      <td>3.030303</td>\n",
       "      <td>3.776444</td>\n",
       "    </tr>\n",
       "    <tr>\n",
       "      <th>4</th>\n",
       "      <td>4.040404</td>\n",
       "      <td>3.775286</td>\n",
       "    </tr>\n",
       "    <tr>\n",
       "      <th>...</th>\n",
       "      <td>...</td>\n",
       "      <td>...</td>\n",
       "    </tr>\n",
       "    <tr>\n",
       "      <th>95</th>\n",
       "      <td>95.959596</td>\n",
       "      <td>3.720581</td>\n",
       "    </tr>\n",
       "    <tr>\n",
       "      <th>96</th>\n",
       "      <td>96.969697</td>\n",
       "      <td>3.720252</td>\n",
       "    </tr>\n",
       "    <tr>\n",
       "      <th>97</th>\n",
       "      <td>97.979798</td>\n",
       "      <td>3.719926</td>\n",
       "    </tr>\n",
       "    <tr>\n",
       "      <th>98</th>\n",
       "      <td>98.989899</td>\n",
       "      <td>3.719602</td>\n",
       "    </tr>\n",
       "    <tr>\n",
       "      <th>99</th>\n",
       "      <td>100.000000</td>\n",
       "      <td>3.719281</td>\n",
       "    </tr>\n",
       "  </tbody>\n",
       "</table>\n",
       "<p>100 rows × 2 columns</p>\n",
       "</div>"
      ],
      "text/plain": [
       "      Time [s]  Voltage [V]\n",
       "0     0.000000     3.780084\n",
       "1     1.010101     3.778840\n",
       "2     2.020202     3.777628\n",
       "3     3.030303     3.776444\n",
       "4     4.040404     3.775286\n",
       "..         ...          ...\n",
       "95   95.959596     3.720581\n",
       "96   96.969697     3.720252\n",
       "97   97.979798     3.719926\n",
       "98   98.989899     3.719602\n",
       "99  100.000000     3.719281\n",
       "\n",
       "[100 rows x 2 columns]"
      ]
     },
     "execution_count": 6,
     "metadata": {},
     "output_type": "execute_result"
    }
   ],
   "source": [
    "data"
   ]
  },
  {
   "cell_type": "markdown",
   "id": "1618f776",
   "metadata": {},
   "source": [
    "PbParam model to be used for GITT needs to be defined:"
   ]
  },
  {
   "cell_type": "code",
   "execution_count": 7,
   "id": "04906531",
   "metadata": {},
   "outputs": [],
   "source": [
    "model = pbparam.WeppnerHuggins()"
   ]
  },
  {
   "cell_type": "markdown",
   "id": "6684dc63",
   "metadata": {},
   "source": [
    "Next, parameter dictionary needs to be defined with all of the required parameters:"
   ]
  },
  {
   "cell_type": "code",
   "execution_count": 8,
   "id": "a39ab05a",
   "metadata": {},
   "outputs": [],
   "source": [
    "param_dict=pybamm.ParameterValues({\n",
    "        \"Reference OCP [V]\": 4.2,\n",
    "        \"Derivative of the OCP wrt stoichiometry [V]\": -1,\n",
    "        \"Current function [A]\": 0.680616,\n",
    "        \"Number of electrodes connected in parallel to make a cell\": 1.0,\n",
    "        \"Electrode width [m]\": 0.207,\n",
    "        \"Electrode height [m]\": 0.137,\n",
    "        \"Positive electrode active material volume fraction\": 0.5,\n",
    "        \"Positive particle radius [m]\": 1e-05,\n",
    "        \"Positive electrode thickness [m]\": 0.0001,\n",
    "        \"Positive electrode diffusivity [m2.s-1]\": 5e-14,\n",
    "        \"Maximum concentration in positive electrode [mol.m-3]\": 51217.9257309275\n",
    "    })"
   ]
  },
  {
   "cell_type": "code",
   "execution_count": 9,
   "id": "bee6ce22",
   "metadata": {},
   "outputs": [],
   "source": [
    "# optimisation problem is GITT.\n",
    "opt = pbparam.GITT(param_dict=param_dict,gitt_model=model, data=data)"
   ]
  },
  {
   "cell_type": "markdown",
   "id": "f90fe4c2",
   "metadata": {},
   "source": [
    "Then, Optimisation method should be defined in this step. DiferentialEvolution(https://docs.scipy.org/doc/scipy/reference/generated/scipy.optimize.differential_evolution.html) or ScipyMinimize(https://docs.scipy.org/doc/scipy/reference/generated/scipy.optimize.minimize.html)\n",
    "\n",
    "can be used to minimise cost function. For faster results, ScipyMinimize with ```\"Nelder-Mead\"``` method can be used. However, ScipyDifferentialEvolution is more robust and has provided lower value for most of the cases. "
   ]
  },
  {
   "cell_type": "code",
   "execution_count": 10,
   "id": "c64e899d",
   "metadata": {},
   "outputs": [],
   "source": [
    "# optimiser = pbparam.ScipyDifferentialEvolution(\n",
    "#     extra_options={\"workers\": 4, \"polish\": True, \"updating\": \"deferred\", \"disp\": True}\n",
    "# )\n",
    "optimiser = pbparam.ScipyMinimize(method=\"Nelder-Mead\")"
   ]
  },
  {
   "cell_type": "markdown",
   "id": "9ae438c5",
   "metadata": {},
   "source": [
    "After providing everything for optimisation algorithm, it can be performed using `optimise(optimisation_problem)`"
   ]
  },
  {
   "cell_type": "code",
   "execution_count": 11,
   "id": "19d3f11a",
   "metadata": {},
   "outputs": [],
   "source": [
    "result = optimiser.optimise(opt)"
   ]
  },
  {
   "cell_type": "code",
   "execution_count": 12,
   "id": "eb43a111",
   "metadata": {},
   "outputs": [
    {
     "name": "stdout",
     "output_type": "stream",
     "text": [
      "\n",
      "             Optimal values: {'Positive electrode diffusivity [m2.s-1]': 2.6573702950474555e-15, 'Reference OCP [V]': 3.789995455329186}\n",
      "             Initial values: {'Positive electrode diffusivity [m2.s-1]': 1.0, 'Reference OCP [V]': 1.0}\n",
      "                  Optimiser: Root Mean Square Error\n",
      "        Cost function value: 0.0003481158363719613\n",
      "                 Solve time: 487.275 ms\n",
      "                    Message: Optimization terminated successfully.\n",
      "        \n"
     ]
    }
   ],
   "source": [
    "# optimised values of parameters and function values can be printed as below.\n",
    "print(result)"
   ]
  },
  {
   "cell_type": "markdown",
   "id": "091131ec",
   "metadata": {},
   "source": [
    "The results dictionary for optimum parameter values can be accessed as:"
   ]
  },
  {
   "cell_type": "code",
   "execution_count": 13,
   "id": "8a09999b",
   "metadata": {},
   "outputs": [
    {
     "data": {
      "text/plain": [
       "2.6573702950474555e-15"
      ]
     },
     "execution_count": 13,
     "metadata": {},
     "output_type": "execute_result"
    }
   ],
   "source": [
    "result.result_dict['Positive electrode diffusivity [m2.s-1]']"
   ]
  },
  {
   "cell_type": "markdown",
   "id": "9ec5fd3a",
   "metadata": {},
   "source": [
    "```plot()``` function can be used to present result graphically."
   ]
  },
  {
   "cell_type": "code",
   "execution_count": 14,
   "id": "cf38f942",
   "metadata": {},
   "outputs": [
    {
     "data": {
      "image/png": "[encoded data removed]",
      "text/plain": [
       "<Figure size 288x288 with 1 Axes>"
      ]
     },
     "metadata": {
      "needs_background": "light"
     },
     "output_type": "display_data"
    },
    {
     "data": {
      "text/plain": [
       "<pybamm.plotting.quick_plot.QuickPlot at 0x13f7fae20>"
      ]
     },
     "execution_count": 14,
     "metadata": {},
     "output_type": "execute_result"
    }
   ],
   "source": [
    "result.plot()"
   ]
  }
 ],
 "metadata": {
  "kernelspec": {
   "display_name": "Python 3 (ipykernel)",
   "language": "python",
   "name": "python3"
  },
  "language_info": {
   "codemirror_mode": {
    "name": "ipython",
    "version": 3
   },
   "file_extension": ".py",
   "mimetype": "text/x-python",
   "name": "python",
   "nbconvert_exporter": "python",
   "pygments_lexer": "ipython3",
   "version": "3.11.6"
  },
  "vscode": {
   "interpreter": {
    "hash": "fb77006a34bae7b3455bf1af19d13801d1160b5407ef5c8323378eef03722c93"
   }
  }
 },
 "nbformat": 4,
 "nbformat_minor": 5
}
