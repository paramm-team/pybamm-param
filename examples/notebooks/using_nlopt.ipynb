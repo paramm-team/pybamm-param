{
 "cells": [
  {
   "cell_type": "markdown",
   "metadata": {},
   "source": [
    "# Using the nlopt optimiser\n",
    "\n",
    "Recreated the workflow from Parameter Optimisation for GITT replacing the optimiser"
   ]
  },
  {
   "cell_type": "code",
   "execution_count": null,
   "metadata": {},
   "outputs": [],
   "source": [
    "import pybamm\n",
    "import pbparam\n",
    "import pandas as pd\n",
    "import nlopt"
   ]
  },
  {
   "cell_type": "code",
   "execution_count": null,
   "metadata": {},
   "outputs": [],
   "source": [
    "syn_model = pybamm.lithium_ion.SPM()\n",
    "syn_param = pybamm.ParameterValues(\"Chen2020\")\n",
    "\n",
    "def linear_OCP(sto):\n",
    "    return 4.2935 - 1.1352 * (sto - 0.2661)\n",
    "\n",
    "syn_param.update(\n",
    "            {\n",
    "                \"Positive electrode OCP [V]\": linear_OCP,\n",
    "                \"Positive electrode diffusivity [m2.s-1]\": 1e-15,\n",
    "            },\n",
    "            check_already_exists=True,\n",
    ")\n",
    "\n",
    "syn_sim = pybamm.Simulation(syn_model, parameter_values=syn_param)\n",
    "syn_solution = syn_sim.solve([0, 100])\n",
    "\n",
    "syn_solution.plot(['Voltage [V]'])"
   ]
  },
  {
   "cell_type": "code",
   "execution_count": null,
   "metadata": {},
   "outputs": [],
   "source": [
    "# Pass synthetic data to the dataframe\n",
    "\n",
    "d = {'Time [s]':syn_solution[\"Time [s]\"].entries, 'Voltage [V]': syn_solution[\"Voltage [V]\"].entries}\n",
    "\n",
    "data = pd.DataFrame(data = d)"
   ]
  },
  {
   "cell_type": "code",
   "execution_count": null,
   "metadata": {},
   "outputs": [],
   "source": [
    "model = pbparam.WeppnerHuggins()\n",
    "param_dict = pybamm.ParameterValues({\n",
    "        \"Reference OCP [V]\": 4.0,\n",
    "        \"Derivative of the OCP wrt stoichiometry [V]\": -1.1352,\n",
    "        \"Current function [A]\": syn_param[\"Current function [A]\"],\n",
    "        \"Number of electrodes connected in parallel to make a cell\": syn_param[\"Number of electrodes connected in parallel to make a cell\"],\n",
    "        \"Electrode width [m]\": syn_param[\"Electrode width [m]\"],\n",
    "        \"Electrode height [m]\": syn_param[\"Electrode height [m]\"],\n",
    "        \"Positive electrode active material volume fraction\": syn_param[\"Positive electrode active material volume fraction\"],\n",
    "        \"Positive particle radius [m]\": syn_param[\"Positive particle radius [m]\"],\n",
    "        \"Positive electrode thickness [m]\": syn_param[\"Positive electrode thickness [m]\"],\n",
    "        \"Positive electrode diffusivity [m2.s-1]\": syn_param[\"Positive electrode diffusivity [m2.s-1]\"],\n",
    "        \"Maximum concentration in positive electrode [mol.m-3]\": syn_param[\"Maximum concentration in positive electrode [mol.m-3]\"],\n",
    "})"
   ]
  },
  {
   "cell_type": "code",
   "execution_count": null,
   "metadata": {},
   "outputs": [],
   "source": [
    "opt = pbparam.GITT(param_dict=param_dict, gitt_model=model, data=data)"
   ]
  },
  {
   "cell_type": "code",
   "execution_count": null,
   "metadata": {},
   "outputs": [],
   "source": [
    "optimiser = pbparam.Nlopt(method=\"LN_BOBYQA\")"
   ]
  },
  {
   "cell_type": "code",
   "execution_count": null,
   "metadata": {},
   "outputs": [],
   "source": [
    "result = optimiser.optimise(opt)"
   ]
  },
  {
   "cell_type": "code",
   "execution_count": null,
   "metadata": {},
   "outputs": [],
   "source": [
    "print(result)\n",
    "result.plot()"
   ]
  },
  {
   "cell_type": "code",
   "execution_count": null,
   "metadata": {},
   "outputs": [],
   "source": []
  }
 ],
 "metadata": {
  "kernelspec": {
   "display_name": ".venv",
   "language": "python",
   "name": "python3"
  },
  "language_info": {
   "codemirror_mode": {
    "name": "ipython",
    "version": 3
   },
   "file_extension": ".py",
   "mimetype": "text/x-python",
   "name": "python",
   "nbconvert_exporter": "python",
   "pygments_lexer": "ipython3",
   "version": "3.11.6"
  }
 },
 "nbformat": 4,
 "nbformat_minor": 2
}
