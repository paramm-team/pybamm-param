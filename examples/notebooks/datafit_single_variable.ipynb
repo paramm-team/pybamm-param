{
 "cells": [
  {
   "cell_type": "markdown",
   "id": "1ee4c0db",
   "metadata": {},
   "source": [
    "# Fit model parameters to single variable data (voltage)\n",
    "\n",
    "This notebook demonstrates step by step how to fit a PyBaMM model to single variable data (in this case voltage), demonstrating the core capabilities of pybamm-param. The workflow to perform the data fitting is:\n",
    "1. Load the data\n",
    "2. Define the model (via a PyBaMM simulation)\n",
    "3. Define the optimisation problem\n",
    "4. Solve the optimisation problem\n",
    "5. Process the result\n",
    "\n",
    "We start by importing the relevant packages."
   ]
  },
  {
   "cell_type": "code",
   "execution_count": 1,
   "id": "5ba4b709",
   "metadata": {},
   "outputs": [],
   "source": [
    "# %pip install git+https://github.com/paramm-team/pybamm-param.git -q # Can be used for Google Colab\n",
    "import pybamm\n",
    "import pbparam\n",
    "import pandas as pd\n",
    "import os"
   ]
  },
  {
   "cell_type": "markdown",
   "id": "77433a5f",
   "metadata": {},
   "source": [
    "## 1. Load the data\n",
    "The first step is to load the data to which we want to fit the model. For this example, we use the experimental dataset which from [Brosa Planella et al. (2021) article](https://www.sciencedirect.com/science/article/pii/S0013468621008148). This data set is already in the right format, if you are using your own dataset you should ensure that the headers of the relevant columns match the variable names in PyBaMM (e.g. `\"Time [s]\"`, `\"Voltage [V]\"`...)"
   ]
  },
  {
   "cell_type": "code",
   "execution_count": 2,
   "id": "9bfce968",
   "metadata": {},
   "outputs": [],
   "source": [
    "os.chdir(os.path.join(pbparam.__path__[0], \"input\", \"data\")) # Path change to where the data is stored\n",
    "data = pd.read_csv(\"LGM50_789_1C_25degC.csv\")"
   ]
  },
  {
   "cell_type": "markdown",
   "id": "bec07cb4",
   "metadata": {},
   "source": [
    "## 2. Define the model\n",
    "Next we need to define the model we want to fit to the data. This also includes defining the solver, spatial methods, parameters that we are not fitting, and operating conditions. To streamline this, we wrap everything into a PyBaMM simulation. The basic idea is that the simulation already includes everything needed to solve the model under certain conditions.\n",
    "\n",
    "In this case we choose the Single Particle Model (SPM) with a contact resistance, which we will fit to the data."
   ]
  },
  {
   "cell_type": "code",
   "execution_count": 3,
   "id": "04906531",
   "metadata": {},
   "outputs": [],
   "source": [
    "model = pybamm.lithium_ion.SPM(\n",
    "    options={\n",
    "        \"contact resistance\": \"true\"\n",
    "    },\n",
    ")"
   ]
  },
  {
   "cell_type": "markdown",
   "id": "6684dc63",
   "metadata": {},
   "source": [
    "In this case we will fit the negative electrode diffusion coefficient and the contact resistance, but we need to provide the remaining parameters. We choose the `\"Chen2020\"` dataset as it matches the data we are using. Note that this will also include values for the parameters we are fitting, but pybamm-param will override those automatically."
   ]
  },
  {
   "cell_type": "code",
   "execution_count": 4,
   "id": "05d9343e",
   "metadata": {},
   "outputs": [],
   "source": [
    "param = pybamm.ParameterValues(\"Chen2020\")"
   ]
  },
  {
   "cell_type": "markdown",
   "id": "eba1bdf3",
   "metadata": {},
   "source": [
    "We also need to define the operating conditions. In this case we want to do 1C discharge followed by a 2-hour rest, so we define a PyBaMM Experiment."
   ]
  },
  {
   "cell_type": "code",
   "execution_count": 5,
   "id": "739d0fa9",
   "metadata": {},
   "outputs": [],
   "source": [
    "experiment = pybamm.Experiment(\n",
    "    [\n",
    "        \"Discharge at 1C until 2.5 V\",\n",
    "        \"Rest for 2 hours\",\n",
    "    ],\n",
    "    period=\"30 seconds\",\n",
    ")"
   ]
  },
  {
   "cell_type": "markdown",
   "id": "25158841",
   "metadata": {},
   "source": [
    "Finally, we combine everything into a PyBaMM simulation (see [PyBaMM documentation](https://docs.pybamm.org)) for more information."
   ]
  },
  {
   "cell_type": "code",
   "execution_count": 6,
   "id": "70212b0a",
   "metadata": {},
   "outputs": [],
   "source": [
    "simulation = pybamm.Simulation(\n",
    "    model,\n",
    "    parameter_values=param,\n",
    "    experiment=experiment,\n",
    ")"
   ]
  },
  {
   "cell_type": "markdown",
   "id": "e87b9a57",
   "metadata": {},
   "source": [
    "## 3. Define the optimisation problem\n",
    "Now we need to define the optimisation problem (defined as an `OptimisationProblem` object), which tells pybamm-param which kind of data fit we want to perform. The package various optimisation problems tailored to specific experiments (OCP balance, GITT...). In this case, we have the most generic scenario which is to fit a user-defined model to some experimental data, so we will need to use the `DataFit` class.\n",
    "\n",
    "The optimisation problems gather all the necessary components to perform the data fit (model, data, parameters to optimise, initial values...), similar to what the `Simulation` class does in PyBaMM. We have already loaded the data and defined the model, so we just need to specify which parameters we want to fit and provide an initial guess and bounds. They need to be passed as a dictionary of the following form: `{\"parameter name\": (initial guess, (lower bound, upper bound))}`."
   ]
  },
  {
   "cell_type": "code",
   "execution_count": 7,
   "id": "f56883ae",
   "metadata": {},
   "outputs": [],
   "source": [
    "param_optimise = {\n",
    "    \"Negative electrode diffusivity [m2.s-1]\": (5e-14, (2.06e-16, 2.06e-12)),\n",
    "    \"Contact resistance [Ohm]\": (0, (0, 0.5)),\n",
    "}"
   ]
  },
  {
   "cell_type": "markdown",
   "id": "723c19c9",
   "metadata": {},
   "source": [
    "By default `DataFit` assumes the variable in the data to fit to is voltage. In the [multivariable example](./datafit_multivariable.ipynb) we show how to specify other variables to fit to. Now that we have all the components, we can assemble the `DataFit` optimisation problem."
   ]
  },
  {
   "cell_type": "code",
   "execution_count": 8,
   "id": "bee6ce22",
   "metadata": {},
   "outputs": [],
   "source": [
    "opt = pbparam.DataFit(simulation, data, param_optimise)"
   ]
  },
  {
   "cell_type": "markdown",
   "id": "f90fe4c2",
   "metadata": {},
   "source": [
    "## 4. Solve the optimisation problem\n",
    "Once the optimisation problem has been defined, we can solve it. To do so, we need to choose which optimiser we want to use (you can find the various optimisers available in [the documentation](https://pybamm-param.readthedocs.io/)). Optimisers are to optimisation problems, what solvers are to PyBaMM simulations.\n",
    "\n",
    "In this case we want to use the Scipy's `minimize` solver with the Nelder-Mead method. Pybamm-param provides a wrapper around that solver that we can use."
   ]
  },
  {
   "cell_type": "code",
   "execution_count": 9,
   "id": "c64e899d",
   "metadata": {},
   "outputs": [],
   "source": [
    "optimiser = pbparam.ScipyMinimize(method=\"Nelder-Mead\")"
   ]
  },
  {
   "cell_type": "markdown",
   "id": "9ae438c5",
   "metadata": {},
   "source": [
    "Now we can tell the optimiser to solve the optimisation problem (i.e. optimise). This will output a `result` that we can store."
   ]
  },
  {
   "cell_type": "code",
   "execution_count": 10,
   "id": "19d3f11a",
   "metadata": {},
   "outputs": [],
   "source": [
    "result = optimiser.optimise(opt)"
   ]
  },
  {
   "cell_type": "markdown",
   "id": "e5c229e7",
   "metadata": {},
   "source": [
    "## 5. Process the result\n",
    "Finally we can process the result of the optimisation problem. The optimisation result contains all the information (including the optimal values), and we can quickly visualise the information by printing it."
   ]
  },
  {
   "cell_type": "code",
   "execution_count": 11,
   "id": "0a3d1458",
   "metadata": {},
   "outputs": [
    {
     "name": "stdout",
     "output_type": "stream",
     "text": [
      "\n",
      "             Optimal values: {'Negative electrode diffusivity [m2.s-1]': 1.8491654663783702e-14, 'Contact resistance [Ohm]': 0.020944162147087393}\n",
      "             Initial values: {'Negative electrode diffusivity [m2.s-1]': 1.0, 'Contact resistance [Ohm]': 0.0}\n",
      "                  Optimiser: Root Mean Square Error\n",
      "        Cost function value: 0.011595393078741297\n",
      "                 Solve time: 38.457 s\n",
      "                    Message: Optimization terminated successfully.\n",
      "        \n"
     ]
    }
   ],
   "source": [
    "print(result)"
   ]
  },
  {
   "cell_type": "markdown",
   "id": "c9b6841f",
   "metadata": {},
   "source": [
    "Or we can access the dictionary of optimised values directly."
   ]
  },
  {
   "cell_type": "code",
   "execution_count": 12,
   "id": "05f6bf40",
   "metadata": {},
   "outputs": [
    {
     "data": {
      "text/plain": [
       "{'Negative electrode diffusivity [m2.s-1]': 1.8491654663783702e-14,\n",
       " 'Contact resistance [Ohm]': 0.020944162147087393}"
      ]
     },
     "execution_count": 12,
     "metadata": {},
     "output_type": "execute_result"
    }
   ],
   "source": [
    "result.result_dict"
   ]
  },
  {
   "cell_type": "markdown",
   "id": "9ec5fd3a",
   "metadata": {},
   "source": [
    "The optimisation result also includes a `plot` method to visualise the results."
   ]
  },
  {
   "cell_type": "code",
   "execution_count": 13,
   "id": "cf38f942",
   "metadata": {},
   "outputs": [
    {
     "data": {
      "image/png": "[encoded data removed]",
      "text/plain": [
       "<Figure size 400x400 with 1 Axes>"
      ]
     },
     "metadata": {},
     "output_type": "display_data"
    },
    {
     "data": {
      "text/plain": [
       "<pybamm.plotting.quick_plot.QuickPlot at 0x7f0f4b74df10>"
      ]
     },
     "execution_count": 13,
     "metadata": {},
     "output_type": "execute_result"
    }
   ],
   "source": [
    "result.plot()"
   ]
  }
 ],
 "metadata": {
  "kernelspec": {
   "display_name": "Python 3 (ipykernel)",
   "language": "python",
   "name": "python3"
  },
  "language_info": {
   "codemirror_mode": {
    "name": "ipython",
    "version": 3
   },
   "file_extension": ".py",
   "mimetype": "text/x-python",
   "name": "python",
   "nbconvert_exporter": "python",
   "pygments_lexer": "ipython3",
   "version": "3.11.6"
  },
  "vscode": {
   "interpreter": {
    "hash": "fb77006a34bae7b3455bf1af19d13801d1160b5407ef5c8323378eef03722c93"
   }
  }
 },
 "nbformat": 4,
 "nbformat_minor": 5
}
