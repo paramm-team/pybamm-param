{
 "cells": [
  {
   "cell_type": "markdown",
   "id": "1ee4c0db",
   "metadata": {},
   "source": [
    "# **Parameter Optimisation for GITT** \n",
    "\n",
    "This notebook is created to provide an example for ```GITT``` optimisation problem. Diffisuion Coefficient is optimised in this notebook. Only voltage will be considered for optimisation in this example.\n",
    " The workflow is as follows:\n"
   ]
  },
  {
   "cell_type": "code",
   "execution_count": null,
   "id": "5ba4b709",
   "metadata": {},
   "outputs": [],
   "source": [
    "#%pip install git+https://github.com/paramm-team/pybamm-param.git -q\n",
    "import pybamm\n",
    "import pbparam\n",
    "import pandas as pd"
   ]
  },
  {
   "cell_type": "markdown",
   "id": "f087e770",
   "metadata": {},
   "source": [
    "We are creating a syntethic data first."
   ]
  },
  {
   "cell_type": "code",
   "execution_count": null,
   "id": "ea2c6d41",
   "metadata": {},
   "outputs": [],
   "source": [
    "syn_model = pybamm.lithium_ion.SPM()"
   ]
  },
  {
   "cell_type": "markdown",
   "id": "6365750d",
   "metadata": {},
   "source": [
    "Synthethic data parameters are defined here:"
   ]
  },
  {
   "cell_type": "code",
   "execution_count": null,
   "id": "a7d1e9fa",
   "metadata": {},
   "outputs": [],
   "source": [
    "syn_param = pybamm.ParameterValues(\"Chen2020\")\n",
    "\n",
    "# Use a linearised OCP to check model is working\n",
    "def linear_OCP(sto):\n",
    "    return 4.2935 - 1.1352 * (sto - 0.2661)\n",
    "\n",
    "syn_param.update(\n",
    "            {\n",
    "                \"Positive electrode OCP [V]\": linear_OCP,\n",
    "                \"Positive electrode diffusivity [m2.s-1]\": 1e-15,\n",
    "            },\n",
    "            check_already_exists=True,\n",
    ")\n",
    "\n",
    "syn_sim = pybamm.Simulation(syn_model, parameter_values=syn_param)\n",
    "syn_solution = syn_sim.solve([0, 100])"
   ]
  },
  {
   "cell_type": "markdown",
   "id": "497b6382",
   "metadata": {},
   "source": [
    "Then, it is plotted:"
   ]
  },
  {
   "cell_type": "code",
   "execution_count": null,
   "id": "ff238811",
   "metadata": {},
   "outputs": [],
   "source": [
    "syn_solution.plot(['Voltage [V]'])"
   ]
  },
  {
   "cell_type": "markdown",
   "id": "0456a81d",
   "metadata": {},
   "source": [
    "The synthethic data is passed to a dataframe:"
   ]
  },
  {
   "cell_type": "code",
   "execution_count": null,
   "id": "6bc43581",
   "metadata": {},
   "outputs": [],
   "source": [
    "d = {'Time [s]':syn_solution[\"Time [s]\"].entries, 'Voltage [V]': syn_solution[\"Voltage [V]\"].entries}\n",
    "\n",
    "data = pd.DataFrame(data = d)"
   ]
  },
  {
   "cell_type": "code",
   "execution_count": null,
   "id": "533b6f28",
   "metadata": {},
   "outputs": [],
   "source": [
    "data"
   ]
  },
  {
   "cell_type": "markdown",
   "id": "1618f776",
   "metadata": {},
   "source": [
    "PbParam model to be used for GITT needs to be defined:"
   ]
  },
  {
   "cell_type": "code",
   "execution_count": null,
   "id": "04906531",
   "metadata": {},
   "outputs": [],
   "source": [
    "model = pbparam.WeppnerHuggins()"
   ]
  },
  {
   "cell_type": "markdown",
   "id": "6684dc63",
   "metadata": {},
   "source": [
    "Next, parameter dictionary needs to be defined with all of the required parameters:"
   ]
  },
  {
   "cell_type": "code",
   "execution_count": null,
   "id": "a39ab05a",
   "metadata": {},
   "outputs": [],
   "source": [
    "param_dict = pybamm.ParameterValues({\n",
    "        \"Reference OCP [V]\": 4.0,\n",
    "        \"Derivative of the OCP wrt stoichiometry [V]\": -1.1352,\n",
    "        \"Current function [A]\": syn_param[\"Current function [A]\"],\n",
    "        \"Number of electrodes connected in parallel to make a cell\": syn_param[\"Number of electrodes connected in parallel to make a cell\"],\n",
    "        \"Electrode width [m]\": syn_param[\"Electrode width [m]\"],\n",
    "        \"Electrode height [m]\": syn_param[\"Electrode height [m]\"],\n",
    "        \"Positive electrode active material volume fraction\": syn_param[\"Positive electrode active material volume fraction\"],\n",
    "        \"Positive particle radius [m]\": syn_param[\"Positive particle radius [m]\"],\n",
    "        \"Positive electrode thickness [m]\": syn_param[\"Positive electrode thickness [m]\"],\n",
    "        \"Positive electrode diffusivity [m2.s-1]\": syn_param[\"Positive electrode diffusivity [m2.s-1]\"],\n",
    "        \"Maximum concentration in positive electrode [mol.m-3]\": syn_param[\"Maximum concentration in positive electrode [mol.m-3]\"],\n",
    "})"
   ]
  },
  {
   "cell_type": "code",
   "execution_count": null,
   "id": "bee6ce22",
   "metadata": {},
   "outputs": [],
   "source": [
    "# optimisation problem is GITT.\n",
    "opt = pbparam.GITT(param_dict=param_dict, gitt_model=model, data=data)"
   ]
  },
  {
   "cell_type": "markdown",
   "id": "f90fe4c2",
   "metadata": {},
   "source": [
    "Then, Optimisation method should be defined in this step. DiferentialEvolution(https://docs.scipy.org/doc/scipy/reference/generated/scipy.optimize.differential_evolution.html) or ScipyMinimize(https://docs.scipy.org/doc/scipy/reference/generated/scipy.optimize.minimize.html)\n",
    "\n",
    "can be used to minimise cost function. For faster results, ScipyMinimize with ```\"Nelder-Mead\"``` method can be used. However, ScipyDifferentialEvolution is more robust and has provided lower value for most of the cases. "
   ]
  },
  {
   "cell_type": "code",
   "execution_count": null,
   "id": "c64e899d",
   "metadata": {},
   "outputs": [],
   "source": [
    "# optimiser = pbparam.ScipyDifferentialEvolution(\n",
    "#     extra_options={\"workers\": 4, \"polish\": True, \"updating\": \"deferred\", \"disp\": True}\n",
    "# )\n",
    "optimiser = pbparam.ScipyMinimize(method=\"Nelder-Mead\")"
   ]
  },
  {
   "cell_type": "markdown",
   "id": "9ae438c5",
   "metadata": {},
   "source": [
    "After providing everything for optimisation algorithm, it can be performed using `optimise(optimisation_problem)`"
   ]
  },
  {
   "cell_type": "code",
   "execution_count": null,
   "id": "19d3f11a",
   "metadata": {},
   "outputs": [],
   "source": [
    "result = optimiser.optimise(opt)\n",
    "# optimised values of parameters and function values can be printed as below.\n",
    "print(result)"
   ]
  },
  {
   "cell_type": "markdown",
   "id": "9ec5fd3a",
   "metadata": {},
   "source": [
    "```plot()``` function can be used to present result graphically."
   ]
  },
  {
   "cell_type": "code",
   "execution_count": null,
   "id": "cf38f942",
   "metadata": {},
   "outputs": [],
   "source": [
    "result.plot()"
   ]
  },
  {
   "cell_type": "code",
   "execution_count": null,
   "id": "0f0127b7",
   "metadata": {},
   "outputs": [],
   "source": []
  }
 ],
 "metadata": {
  "kernelspec": {
   "display_name": "Python 3 (ipykernel)",
   "language": "python",
   "name": "python3"
  },
  "language_info": {
   "codemirror_mode": {
    "name": "ipython",
    "version": 3
   },
   "file_extension": ".py",
   "mimetype": "text/x-python",
   "name": "python",
   "nbconvert_exporter": "python",
   "pygments_lexer": "ipython3",
   "version": "3.9.10"
  },
  "vscode": {
   "interpreter": {
    "hash": "fb77006a34bae7b3455bf1af19d13801d1160b5407ef5c8323378eef03722c93"
   }
  }
 },
 "nbformat": 4,
 "nbformat_minor": 5
}
